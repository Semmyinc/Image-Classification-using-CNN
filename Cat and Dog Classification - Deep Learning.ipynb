{
 "cells": [
  {
   "cell_type": "code",
   "execution_count": 1,
   "id": "8519e7bf",
   "metadata": {},
   "outputs": [],
   "source": [
    "# Import needed libraries\n",
    "import pandas as pd\n",
    "import numpy as np\n",
    "import matplotlib.pyplot as plt\n",
    "import pickle\n",
    "import cv2\n",
    "import os"
   ]
  },
  {
   "cell_type": "code",
   "execution_count": 2,
   "id": "c4d07400",
   "metadata": {},
   "outputs": [],
   "source": [
    "# keeping the path to the dataset\n",
    "directory = r'C:\\Users\\HP\\Desktop\\Python\\videos\\machine learning\\DS Datasets\\data_cat_dog'\n",
    "\n",
    "# grouping the images\n",
    "categories = ['cat', 'dog']"
   ]
  },
  {
   "cell_type": "code",
   "execution_count": 3,
   "id": "1f248b77",
   "metadata": {},
   "outputs": [],
   "source": [
    "# setting image_size uniformly across board\n",
    "img_size = 100\n",
    "\n",
    "# creating empty list to store the preprocessed images\n",
    "data = []\n",
    "\n",
    "# looping through the images for preprocessing\n",
    "for category in categories:\n",
    "    folder = os.path.join(directory, category)\n",
    "#     print(folder)\n",
    "    label = categories.index(category)\n",
    "    for img in os.listdir(folder):\n",
    "        img_path = os.path.join(folder, img)\n",
    "#         print(img_path)\n",
    "        img_arr = cv2.imread(img_path)\n",
    "        img_arr = cv2.resize(img_arr, (img_size,img_size))\n",
    "        data.append([img_arr, label])\n",
    "#         plt.imshow(img_arr)\n",
    "#         break"
   ]
  },
  {
   "cell_type": "code",
   "execution_count": 4,
   "id": "5e043223",
   "metadata": {},
   "outputs": [
    {
     "data": {
      "text/plain": [
       "170"
      ]
     },
     "execution_count": 4,
     "metadata": {},
     "output_type": "execute_result"
    }
   ],
   "source": [
    "# checking total number of samples\n",
    "len(data)"
   ]
  },
  {
   "cell_type": "code",
   "execution_count": 5,
   "id": "4f13e37f",
   "metadata": {},
   "outputs": [],
   "source": [
    "# shuffling the dataset\n",
    "import random\n",
    "random.shuffle(data)"
   ]
  },
  {
   "cell_type": "code",
   "execution_count": 6,
   "id": "6ac84c7e",
   "metadata": {},
   "outputs": [
    {
     "data": {
      "text/plain": [
       "[array([[[ 25, 101, 149],\n",
       "         [ 25, 101, 149],\n",
       "         [ 27, 103, 151],\n",
       "         ...,\n",
       "         [ 20,  64, 111],\n",
       "         [ 20,  65, 110],\n",
       "         [ 21,  66, 110]],\n",
       " \n",
       "        [[ 27, 101, 149],\n",
       "         [ 27, 101, 149],\n",
       "         [ 21,  96, 143],\n",
       "         ...,\n",
       "         [ 25,  69, 116],\n",
       "         [ 26,  70, 116],\n",
       "         [ 27,  72, 116]],\n",
       " \n",
       "        [[ 24,  96, 144],\n",
       "         [ 20,  92, 140],\n",
       "         [ 27,  99, 147],\n",
       "         ...,\n",
       "         [ 28,  72, 119],\n",
       "         [ 29,  73, 119],\n",
       "         [ 30,  74, 118]],\n",
       " \n",
       "        ...,\n",
       " \n",
       "        [[ 51,  68,  81],\n",
       "         [ 44,  62,  78],\n",
       "         [ 40,  58,  76],\n",
       "         ...,\n",
       "         [  0,   0,  10],\n",
       "         [  0,   1,   9],\n",
       "         [  0,   2,   7]],\n",
       " \n",
       "        [[ 40,  57,  70],\n",
       "         [ 40,  58,  73],\n",
       "         [ 43,  61,  78],\n",
       "         ...,\n",
       "         [  0,   1,  11],\n",
       "         [  0,   2,  10],\n",
       "         [  0,   3,   8]],\n",
       " \n",
       "        [[ 46,  63,  76],\n",
       "         [ 45,  62,  78],\n",
       "         [ 41,  59,  76],\n",
       "         ...,\n",
       "         [  0,   1,  11],\n",
       "         [  1,   3,  10],\n",
       "         [  2,   5,  10]]], dtype=uint8),\n",
       " 1]"
      ]
     },
     "execution_count": 6,
     "metadata": {},
     "output_type": "execute_result"
    }
   ],
   "source": [
    "# checking the composition of our data\n",
    "data[0]"
   ]
  },
  {
   "cell_type": "code",
   "execution_count": 7,
   "id": "15a469e3",
   "metadata": {},
   "outputs": [],
   "source": [
    "# creating variables to store the features and labels\n",
    "X = []\n",
    "y = []\n",
    "\n",
    "for features, labels in data:\n",
    "    X.append(features)\n",
    "    y.append(labels)"
   ]
  },
  {
   "cell_type": "code",
   "execution_count": 9,
   "id": "b5bc7761",
   "metadata": {},
   "outputs": [
    {
     "data": {
      "text/plain": [
       "(170, 170)"
      ]
     },
     "execution_count": 9,
     "metadata": {},
     "output_type": "execute_result"
    }
   ],
   "source": [
    "# confirming length of our samples\n",
    "len(X), len(y)"
   ]
  },
  {
   "cell_type": "code",
   "execution_count": 11,
   "id": "9fb9a32b",
   "metadata": {},
   "outputs": [],
   "source": [
    "# converting the features and labels to numpy array fro easy of manipulation\n",
    "X = np.array(X)\n",
    "y = np.array(y)"
   ]
  },
  {
   "cell_type": "code",
   "execution_count": 10,
   "id": "92204662",
   "metadata": {},
   "outputs": [],
   "source": [
    "# pickle.dump(X, open('X.pkl', 'wb'))\n",
    "# pickle.dump(y, open('y.pkl', 'wb'))"
   ]
  },
  {
   "cell_type": "code",
   "execution_count": 37,
   "id": "6cffd758",
   "metadata": {},
   "outputs": [],
   "source": [
    "# importing the modelling libraries\n",
    "import tensorflow as tf\n",
    "from tensorflow import keras\n",
    "from sklearn.model_selection import train_test_split"
   ]
  },
  {
   "cell_type": "code",
   "execution_count": 15,
   "id": "8cbf8f0f",
   "metadata": {},
   "outputs": [
    {
     "data": {
      "text/plain": [
       "((127, 100, 100, 3), (43, 100, 100, 3), (127,), (43,))"
      ]
     },
     "execution_count": 15,
     "metadata": {},
     "output_type": "execute_result"
    }
   ],
   "source": [
    "# splitting to bothe train and test samples\n",
    "\n",
    "X_train, X_test, y_train, y_test = train_test_split(X,y)\n",
    "X_train.shape, X_test.shape, y_train.shape, y_test.shape"
   ]
  },
  {
   "cell_type": "code",
   "execution_count": 20,
   "id": "5ae8671f",
   "metadata": {
    "scrolled": true
   },
   "outputs": [
    {
     "name": "stdout",
     "output_type": "stream",
     "text": [
      "Epoch 1/5\n",
      "4/4 [==============================] - 3s 159ms/step - loss: 5.4856 - accuracy: 0.4646\n",
      "Epoch 2/5\n",
      "4/4 [==============================] - 1s 157ms/step - loss: 0.9995 - accuracy: 0.5118\n",
      "Epoch 3/5\n",
      "4/4 [==============================] - 1s 156ms/step - loss: 0.8229 - accuracy: 0.5039\n",
      "Epoch 4/5\n",
      "4/4 [==============================] - 1s 156ms/step - loss: 0.5946 - accuracy: 0.6535\n",
      "Epoch 5/5\n",
      "4/4 [==============================] - 1s 170ms/step - loss: 0.5685 - accuracy: 0.6693\n"
     ]
    },
    {
     "data": {
      "text/plain": [
       "<keras.callbacks.History at 0x23fb2b4daf0>"
      ]
     },
     "execution_count": 20,
     "metadata": {},
     "output_type": "execute_result"
    }
   ],
   "source": [
    "# modelling\n",
    "\n",
    "model = keras.Sequential([\n",
    "    keras.layers.Conv2D(filters=16, kernel_size=(3,3), activation='relu', input_shape=(100,100,3)),\n",
    "    keras.layers.MaxPooling2D(2,2),\n",
    "    \n",
    "    keras.layers.Conv2D(filters=32, kernel_size=(3,3), activation='relu'),\n",
    "    keras.layers.MaxPooling2D(2,2),\n",
    "    \n",
    "    keras.layers.Conv2D(filters=64, kernel_size=(3,3), activation='relu'),\n",
    "    keras.layers.MaxPooling2D(2,2),\n",
    "    \n",
    "    keras.layers.Flatten(),\n",
    "    keras.layers.Dense(32, activation='relu'),\n",
    "    keras.layers.Dense(64, activation='relu'),\n",
    "    keras.layers.Dense(128, activation='relu'),\n",
    "    keras.layers.Dense(1, activation='sigmoid'),\n",
    "])\n",
    "\n",
    "model.compile(optimizer = 'adam',\n",
    "             loss = 'binary_crossentropy',\n",
    "             metrics = 'accuracy')\n",
    "\n",
    "model.fit(X_train, y_train, epochs=5)"
   ]
  },
  {
   "cell_type": "code",
   "execution_count": 21,
   "id": "f0ad1d49",
   "metadata": {},
   "outputs": [
    {
     "name": "stdout",
     "output_type": "stream",
     "text": [
      "2/2 [==============================] - 0s 37ms/step - loss: 0.5686 - accuracy: 0.7209\n"
     ]
    },
    {
     "data": {
      "text/plain": [
       "[0.5685815811157227, 0.7209302186965942]"
      ]
     },
     "execution_count": 21,
     "metadata": {},
     "output_type": "execute_result"
    }
   ],
   "source": [
    "# scoring our model\n",
    "\n",
    "model.evaluate(X_test, y_test)"
   ]
  },
  {
   "cell_type": "code",
   "execution_count": 23,
   "id": "f1ed47b6",
   "metadata": {},
   "outputs": [
    {
     "name": "stdout",
     "output_type": "stream",
     "text": [
      "2/2 [==============================] - 0s 33ms/step\n"
     ]
    }
   ],
   "source": [
    "predictions = model.predict(X_test)"
   ]
  },
  {
   "cell_type": "code",
   "execution_count": 24,
   "id": "4022ef13",
   "metadata": {},
   "outputs": [],
   "source": [
    "y_preds = []\n",
    "for prediction in predictions:\n",
    "    if prediction >= 0.5:\n",
    "        y_preds.append(1)\n",
    "    else:\n",
    "        y_preds.append(0)"
   ]
  },
  {
   "cell_type": "code",
   "execution_count": 25,
   "id": "67805c86",
   "metadata": {},
   "outputs": [
    {
     "data": {
      "text/plain": [
       "array([0, 1, 1, 1, 0, 0, 0, 0, 0, 0])"
      ]
     },
     "execution_count": 25,
     "metadata": {},
     "output_type": "execute_result"
    }
   ],
   "source": [
    "# result\n",
    "np.array(y_preds[:10])"
   ]
  },
  {
   "cell_type": "code",
   "execution_count": 26,
   "id": "26ac5e84",
   "metadata": {},
   "outputs": [
    {
     "data": {
      "text/plain": [
       "array([1, 0, 1, 1, 0, 1, 0, 0, 0, 0])"
      ]
     },
     "execution_count": 26,
     "metadata": {},
     "output_type": "execute_result"
    }
   ],
   "source": [
    "np.array(y_test[:10])"
   ]
  },
  {
   "cell_type": "code",
   "execution_count": 34,
   "id": "18ca198e",
   "metadata": {
    "scrolled": true
   },
   "outputs": [
    {
     "data": {
      "text/plain": [
       "<matplotlib.image.AxesImage at 0x23fb4931550>"
      ]
     },
     "execution_count": 34,
     "metadata": {},
     "output_type": "execute_result"
    },
    {
     "data": {
      "image/png": "[encoded data removed]",
      "text/plain": [
       "<Figure size 640x480 with 1 Axes>"
      ]
     },
     "metadata": {},
     "output_type": "display_data"
    }
   ],
   "source": [
    "plt.imshow(X_test[5])"
   ]
  },
  {
   "cell_type": "code",
   "execution_count": 40,
   "id": "819cb24e",
   "metadata": {},
   "outputs": [],
   "source": [
    "# plot confusion mstrix\n",
    "cm = tf.math.confusion_matrix(labels=y_test, predictions=y_preds)"
   ]
  },
  {
   "cell_type": "code",
   "execution_count": 41,
   "id": "b47e13ca",
   "metadata": {
    "scrolled": true
   },
   "outputs": [
    {
     "data": {
      "image/png": "[encoded data removed]",
      "text/plain": [
       "<Figure size 300x200 with 2 Axes>"
      ]
     },
     "metadata": {},
     "output_type": "display_data"
    }
   ],
   "source": [
    "import seaborn as sns\n",
    "plt.figure(figsize=(3,2))\n",
    "sns.heatmap(cm, annot=True)\n",
    "plt.xlabel('Truth')\n",
    "plt.ylabel('Predictions')\n",
    "plt.show()"
   ]
  }
 ],
 "metadata": {
  "kernelspec": {
   "display_name": "Python 3 (ipykernel)",
   "language": "python",
   "name": "python3"
  },
  "language_info": {
   "codemirror_mode": {
    "name": "ipython",
    "version": 3
   },
   "file_extension": ".py",
   "mimetype": "text/x-python",
   "name": "python",
   "nbconvert_exporter": "python",
   "pygments_lexer": "ipython3",
   "version": "3.9.13"
  }
 },
 "nbformat": 4,
 "nbformat_minor": 5
}
